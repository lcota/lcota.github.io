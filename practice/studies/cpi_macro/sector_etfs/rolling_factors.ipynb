{
 "cells": [
  {
   "metadata": {},
   "cell_type": "markdown",
   "source": " # Imports Setup",
   "id": "c30ad37ebf578f73"
  },
  {
   "cell_type": "code",
   "id": "3403940a-dc03-4b0a-b4b8-615067f802cc",
   "metadata": {
    "ExecuteTime": {
     "end_time": "2024-07-20T22:09:53.492525Z",
     "start_time": "2024-07-20T22:09:53.475034Z"
    }
   },
   "source": [
    "%load_ext autoreload\n",
    "%autoreload 2"
   ],
   "outputs": [],
   "execution_count": 1
  },
  {
   "cell_type": "code",
   "id": "74bc86c7-14fb-440b-9e6a-d1199e3e3504",
   "metadata": {
    "ExecuteTime": {
     "end_time": "2024-07-20T22:09:53.511710Z",
     "start_time": "2024-07-20T22:09:53.493340Z"
    }
   },
   "source": [
    "%matplotlib inline"
   ],
   "outputs": [],
   "execution_count": 2
  },
  {
   "cell_type": "code",
   "id": "87b453d3-386e-47de-a9c1-229b9e66199a",
   "metadata": {
    "ExecuteTime": {
     "end_time": "2024-07-20T22:09:54.428661Z",
     "start_time": "2024-07-20T22:09:53.512481Z"
    }
   },
   "source": [
    "from datetime import datetime\n",
    "import numpy as np\n",
    "import matplotlib as mpl\n",
    "import matplotlib.pyplot as plt\n",
    "import seaborn as sb\n",
    "# import modin.pandas as pd\n",
    "# import modin\n",
    "import pandas as pd\n",
    "from scipy.optimize import minimize \n",
    "from utils import *\n",
    "from importlib import reload\n",
    "from collections import defaultdict\n",
    "\n",
    "import matplotlib.font_manager as fm"
   ],
   "outputs": [],
   "execution_count": 3
  },
  {
   "cell_type": "code",
   "id": "e1f96886-af11-47fe-916b-610f72b3ad59",
   "metadata": {
    "ExecuteTime": {
     "end_time": "2024-07-20T22:09:54.448233Z",
     "start_time": "2024-07-20T22:09:54.430098Z"
    }
   },
   "source": [
    "plt.rcParams['font.family'] = 'sans-serif'\n",
    "plt.rcParams['font.sans-serif'] = 'Raleway'\n",
    "plt.rcParams['font.style'] = \"normal\"\n",
    "# plt.rcParams['font.weight'] = 'Light'\n",
    "# plt.rcParams['font.serif'] = 'Times New Roman'\n",
    "# plt.rcParams['font.size'] = 12\n",
    "# font.cursive\n",
    "# font.family\n",
    "# font.fantasy\n",
    "# font.monospace\n",
    "# font.sans-serif\n",
    "# font.serif\n",
    "# font.size\n",
    "# font.stretch\n",
    "# font.style\n",
    "# font.variant\n",
    "# font.weight\n",
    "# legend.fontsize\n",
    "# legend.title_fontsize\n",
    "# mathtext.fontset\n",
    "# pdf.fonttype\n",
    "# pdf.use14corefonts\n",
    "# pgf.rcfonts\n",
    "# ps.fonttype\n",
    "# svg.fonttype\n",
    "\n",
    "# plot_trading_rule(dfXcpi, dfrtn, xcol=xcol, rtn_col=rtn_col, \n",
    "#                   weights=weights, save_plot=True, show_plot=True)\n",
    "\n",
    "# for k in plt.rcParams.keys():\n",
    "#     if \"font\" in k:\n",
    "#         print(k)"
   ],
   "outputs": [],
   "execution_count": 4
  },
  {
   "cell_type": "code",
   "id": "60eedbea-1726-4249-aca8-5a05e63ba431",
   "metadata": {
    "ExecuteTime": {
     "end_time": "2024-07-20T22:09:55.368816Z",
     "start_time": "2024-07-20T22:09:54.780234Z"
    }
   },
   "source": [
    "import strategies\n",
    "from strategies import calc_excess_returns, factor_barplot, portfolio_performance, negative_sharpe_ratio, optimize_portfolio, calculate_factor_exposures, calculate_factor_exposures2, calc_strat_returns"
   ],
   "outputs": [],
   "execution_count": 5
  },
  {
   "cell_type": "code",
   "id": "82431dff-971c-4999-8536-8d5772338717",
   "metadata": {
    "ExecuteTime": {
     "end_time": "2024-07-20T22:09:55.389888Z",
     "start_time": "2024-07-20T22:09:55.370158Z"
    }
   },
   "source": "dfcpi_fred = pd.read_parquet(\"workspace/cpi_fred_factors.pq\").reset_index()",
   "outputs": [],
   "execution_count": 6
  },
  {
   "metadata": {},
   "cell_type": "markdown",
   "source": "",
   "id": "d115478a5d7a0a9b"
  },
  {
   "cell_type": "code",
   "id": "0b944796-ff77-447a-a12e-435694ddb449",
   "metadata": {
    "ExecuteTime": {
     "end_time": "2024-07-20T22:10:02.683058Z",
     "start_time": "2024-07-20T22:10:02.639636Z"
    }
   },
   "source": [
    "df_all = pd.read_parquet(\"workspace/dfreturns_with_factors.pq\")\n",
    "\n",
    "\n",
    "factor_cols = ['date', 'refmonthyear', 'cpi.hml', 'pmi.hml', 'nmi.hml', \n",
    "                '3M_rising', '6M_rising', '9M_rising', '12M_rising']\n",
    "\n",
    "\n",
    "cpi_factors = ['date', 'refmonthyear', \n",
    "               '3M_rising', '6M_rising', '9M_rising', '12M_rising',\n",
    "               '3M_rising_yoy', '6M_rising_yoy', '9M_rising_yoy', '12M_rising_yoy']\n",
    "\n",
    "rtn_cols = [c for c in df_all.columns if c.startswith('rtn') & c.endswith(\"M\")]\n",
    "tickers = list(df_all['ticker'].unique())\n",
    "\n",
    "# Need to unstack returns per sector to split factor columns\n",
    "dfrtn = df_all.pivot(columns=\"ticker\", index=['date', 'refmonthyear'], values=rtn_cols)\n",
    "head(dfrtn)\n",
    "\n",
    "dfX = df_all[factor_cols].copy().drop_duplicates()\n",
    "dfX.set_index(['date', 'refmonthyear'], inplace=True)\n",
    "\n",
    "\n",
    "\n",
    "dfXcpi = dfcpi_fred[cpi_factors].copy().drop_duplicates()\n",
    "dfXcpi.set_index(['date', 'refmonthyear'], inplace=True)\n",
    "\n",
    "fwd_returns = {}\n",
    "\n",
    "df2 = dfrtn.stack(future_stack=True)\n",
    "df2.reset_index(inplace=True)\n",
    "\n",
    "for ticker in tickers:\n",
    "    fwd_returns[ticker] = df2[df2['ticker'] == ticker].copy()\n",
    "\n",
    "del df2\n",
    "\n",
    "datemap = df_all[['refmonthyear', 'date']].drop_duplicates().copy()\n",
    "datemap['date'] = datemap['date'].apply(lambda x: pd.to_datetime(x).date())"
   ],
   "outputs": [],
   "execution_count": 7
  },
  {
   "metadata": {
    "ExecuteTime": {
     "end_time": "2024-07-20T22:10:06.812274Z",
     "start_time": "2024-07-20T22:10:06.787563Z"
    }
   },
   "cell_type": "code",
   "source": "df_all.head()",
   "id": "c3bc9f29b405bdac",
   "outputs": [
    {
     "data": {
      "text/plain": [
       "  refmonthyear  ticker       date nmi.hml pmi.hml cpi.hml       rtn  \\\n",
       "0     OCT.1989  s5cond 1989-10-31     NaN     LOW    HIGH -0.048166   \n",
       "1     NOV.1989  s5cond 1989-11-30     NaN     LOW    HIGH -0.006986   \n",
       "2     DEC.1989  s5cond 1989-12-29     NaN     LOW    HIGH -0.006937   \n",
       "3     JAN.1990  s5cond 1990-01-31     NaN     LOW    HIGH -0.065070   \n",
       "4     FEB.1990  s5cond 1990-02-28     NaN     MED    HIGH  0.022914   \n",
       "\n",
       "    rtn_date 3M_rising 6M_rising  ...    rtn_3M    rtn_4M    rtn_5M    rtn_6M  \\\n",
       "0 1989-10-31      True      True  ... -0.008771 -0.024954 -0.018526 -0.007617   \n",
       "1 1989-11-30      True      True  ...  0.006305  0.003513  0.001732  0.002848   \n",
       "2 1989-12-29      True      True  ...  0.023684  0.016164  0.018037  0.004831   \n",
       "3 1990-01-31      True      True  ...  0.008001  0.000479  0.018618  0.013383   \n",
       "4 1990-02-28      True      True  ...  0.014754  0.028664  0.023865  0.038500   \n",
       "\n",
       "     rtn_7M    rtn_8M    rtn_9M   rtn_10M   rtn_11M   rtn_12M  \n",
       "0 -0.012665 -0.005347 -0.001097 -0.008358 -0.004850 -0.011541  \n",
       "1 -0.001024 -0.002621 -0.000951 -0.008429 -0.011657 -0.031212  \n",
       "2 -0.003538 -0.001609 -0.028990 -0.039751 -0.027297 -0.036295  \n",
       "3  0.018979  0.009627  0.012117  0.015704  0.023048  0.013475  \n",
       "4  0.035881  0.039468  0.035832  0.038875  0.040424  0.049318  \n",
       "\n",
       "[5 rows x 24 columns]"
      ],
      "text/html": [
       "<div>\n",
       "<style scoped>\n",
       "    .dataframe tbody tr th:only-of-type {\n",
       "        vertical-align: middle;\n",
       "    }\n",
       "\n",
       "    .dataframe tbody tr th {\n",
       "        vertical-align: top;\n",
       "    }\n",
       "\n",
       "    .dataframe thead th {\n",
       "        text-align: right;\n",
       "    }\n",
       "</style>\n",
       "<table border=\"1\" class=\"dataframe\">\n",
       "  <thead>\n",
       "    <tr style=\"text-align: right;\">\n",
       "      <th></th>\n",
       "      <th>refmonthyear</th>\n",
       "      <th>ticker</th>\n",
       "      <th>date</th>\n",
       "      <th>nmi.hml</th>\n",
       "      <th>pmi.hml</th>\n",
       "      <th>cpi.hml</th>\n",
       "      <th>rtn</th>\n",
       "      <th>rtn_date</th>\n",
       "      <th>3M_rising</th>\n",
       "      <th>6M_rising</th>\n",
       "      <th>...</th>\n",
       "      <th>rtn_3M</th>\n",
       "      <th>rtn_4M</th>\n",
       "      <th>rtn_5M</th>\n",
       "      <th>rtn_6M</th>\n",
       "      <th>rtn_7M</th>\n",
       "      <th>rtn_8M</th>\n",
       "      <th>rtn_9M</th>\n",
       "      <th>rtn_10M</th>\n",
       "      <th>rtn_11M</th>\n",
       "      <th>rtn_12M</th>\n",
       "    </tr>\n",
       "  </thead>\n",
       "  <tbody>\n",
       "    <tr>\n",
       "      <th>0</th>\n",
       "      <td>OCT.1989</td>\n",
       "      <td>s5cond</td>\n",
       "      <td>1989-10-31</td>\n",
       "      <td>NaN</td>\n",
       "      <td>LOW</td>\n",
       "      <td>HIGH</td>\n",
       "      <td>-0.048166</td>\n",
       "      <td>1989-10-31</td>\n",
       "      <td>True</td>\n",
       "      <td>True</td>\n",
       "      <td>...</td>\n",
       "      <td>-0.008771</td>\n",
       "      <td>-0.024954</td>\n",
       "      <td>-0.018526</td>\n",
       "      <td>-0.007617</td>\n",
       "      <td>-0.012665</td>\n",
       "      <td>-0.005347</td>\n",
       "      <td>-0.001097</td>\n",
       "      <td>-0.008358</td>\n",
       "      <td>-0.004850</td>\n",
       "      <td>-0.011541</td>\n",
       "    </tr>\n",
       "    <tr>\n",
       "      <th>1</th>\n",
       "      <td>NOV.1989</td>\n",
       "      <td>s5cond</td>\n",
       "      <td>1989-11-30</td>\n",
       "      <td>NaN</td>\n",
       "      <td>LOW</td>\n",
       "      <td>HIGH</td>\n",
       "      <td>-0.006986</td>\n",
       "      <td>1989-11-30</td>\n",
       "      <td>True</td>\n",
       "      <td>True</td>\n",
       "      <td>...</td>\n",
       "      <td>0.006305</td>\n",
       "      <td>0.003513</td>\n",
       "      <td>0.001732</td>\n",
       "      <td>0.002848</td>\n",
       "      <td>-0.001024</td>\n",
       "      <td>-0.002621</td>\n",
       "      <td>-0.000951</td>\n",
       "      <td>-0.008429</td>\n",
       "      <td>-0.011657</td>\n",
       "      <td>-0.031212</td>\n",
       "    </tr>\n",
       "    <tr>\n",
       "      <th>2</th>\n",
       "      <td>DEC.1989</td>\n",
       "      <td>s5cond</td>\n",
       "      <td>1989-12-29</td>\n",
       "      <td>NaN</td>\n",
       "      <td>LOW</td>\n",
       "      <td>HIGH</td>\n",
       "      <td>-0.006937</td>\n",
       "      <td>1989-12-29</td>\n",
       "      <td>True</td>\n",
       "      <td>True</td>\n",
       "      <td>...</td>\n",
       "      <td>0.023684</td>\n",
       "      <td>0.016164</td>\n",
       "      <td>0.018037</td>\n",
       "      <td>0.004831</td>\n",
       "      <td>-0.003538</td>\n",
       "      <td>-0.001609</td>\n",
       "      <td>-0.028990</td>\n",
       "      <td>-0.039751</td>\n",
       "      <td>-0.027297</td>\n",
       "      <td>-0.036295</td>\n",
       "    </tr>\n",
       "    <tr>\n",
       "      <th>3</th>\n",
       "      <td>JAN.1990</td>\n",
       "      <td>s5cond</td>\n",
       "      <td>1990-01-31</td>\n",
       "      <td>NaN</td>\n",
       "      <td>LOW</td>\n",
       "      <td>HIGH</td>\n",
       "      <td>-0.065070</td>\n",
       "      <td>1990-01-31</td>\n",
       "      <td>True</td>\n",
       "      <td>True</td>\n",
       "      <td>...</td>\n",
       "      <td>0.008001</td>\n",
       "      <td>0.000479</td>\n",
       "      <td>0.018618</td>\n",
       "      <td>0.013383</td>\n",
       "      <td>0.018979</td>\n",
       "      <td>0.009627</td>\n",
       "      <td>0.012117</td>\n",
       "      <td>0.015704</td>\n",
       "      <td>0.023048</td>\n",
       "      <td>0.013475</td>\n",
       "    </tr>\n",
       "    <tr>\n",
       "      <th>4</th>\n",
       "      <td>FEB.1990</td>\n",
       "      <td>s5cond</td>\n",
       "      <td>1990-02-28</td>\n",
       "      <td>NaN</td>\n",
       "      <td>MED</td>\n",
       "      <td>HIGH</td>\n",
       "      <td>0.022914</td>\n",
       "      <td>1990-02-28</td>\n",
       "      <td>True</td>\n",
       "      <td>True</td>\n",
       "      <td>...</td>\n",
       "      <td>0.014754</td>\n",
       "      <td>0.028664</td>\n",
       "      <td>0.023865</td>\n",
       "      <td>0.038500</td>\n",
       "      <td>0.035881</td>\n",
       "      <td>0.039468</td>\n",
       "      <td>0.035832</td>\n",
       "      <td>0.038875</td>\n",
       "      <td>0.040424</td>\n",
       "      <td>0.049318</td>\n",
       "    </tr>\n",
       "  </tbody>\n",
       "</table>\n",
       "<p>5 rows × 24 columns</p>\n",
       "</div>"
      ]
     },
     "execution_count": 8,
     "metadata": {},
     "output_type": "execute_result"
    }
   ],
   "execution_count": 8
  },
  {
   "metadata": {
    "ExecuteTime": {
     "end_time": "2024-07-13T23:39:34.461747Z",
     "start_time": "2024-07-13T23:39:34.425519Z"
    }
   },
   "cell_type": "code",
   "source": [
    "dfcpi_tleaf = pd.read_parquet(\"workspace/cpi_turnleaf_factors.pq\").reset_index()\n",
    "dfcpi_tleaf['date'] = dfcpi_tleaf['refdate'].apply(lambda x: pd.to_datetime(x).date())"
   ],
   "id": "6268e004a098864b",
   "outputs": [],
   "execution_count": 384
  },
  {
   "metadata": {},
   "cell_type": "markdown",
   "source": "# Create rolling factors",
   "id": "89405b1c4b526fab"
  },
  {
   "metadata": {
    "ExecuteTime": {
     "end_time": "2024-07-13T19:16:19.147669Z",
     "start_time": "2024-07-13T19:16:19.124583Z"
    }
   },
   "cell_type": "code",
   "source": [
    "def rolling_factor_means(df, datemap=None, factor='6M_rising_yoy', rtn_col='rtn_1M', lookback=24, min_periods=None): \n",
    "    \n",
    "    if datemap is None:\n",
    "        datemap = df[['refmonthyear', 'date']].drop_duplicates().copy()\n",
    "        datemap['date'] = datemap['date'].apply(lambda x: pd.to_datetime(x).date())\n",
    "    \n",
    "    if min_periods is None:\n",
    "        min_periods=lookback\n",
    "    result = (df.groupby(['ticker', factor])\n",
    "              .rolling(lookback, on='refmonthyear', min_periods=min_periods)[rtn_col]\n",
    "              .mean()\n",
    "              ).reset_index()\n",
    "    \n",
    "    result = result.join(datemap.set_index('refmonthyear'), on='refmonthyear')\n",
    "    return result\n"
   ],
   "id": "a94982a547dc53e6",
   "outputs": [],
   "execution_count": 116
  },
  {
   "metadata": {},
   "cell_type": "markdown",
   "source": "",
   "id": "2a3740601b7b5ca4"
  },
  {
   "metadata": {
    "ExecuteTime": {
     "end_time": "2024-07-13T17:14:06.428687Z",
     "start_time": "2024-07-13T17:14:06.406407Z"
    }
   },
   "cell_type": "code",
   "source": "fred_cpi_factors = dfcpi_fred[['refmonthyear'] + [c for c in dfcpi_fred.columns if (c.endswith('_rising_yoy') )]]",
   "id": "7da34cb1e7fffd9a",
   "outputs": [],
   "execution_count": 53
  },
  {
   "metadata": {
    "ExecuteTime": {
     "end_time": "2024-07-13T17:01:53.440741Z",
     "start_time": "2024-07-13T17:01:53.422916Z"
    }
   },
   "cell_type": "code",
   "source": "refperiods = df_all['refmonthyear'].unique()",
   "id": "ce1d14f35c19835b",
   "outputs": [],
   "execution_count": 42
  },
  {
   "metadata": {
    "ExecuteTime": {
     "end_time": "2024-07-13T17:15:39.091199Z",
     "start_time": "2024-07-13T17:15:39.065552Z"
    }
   },
   "cell_type": "code",
   "source": [
    "df_all = pd.merge(df_all, fred_cpi_factors, on='refmonthyear', how='inner')\n",
    "df_all['date'] = df_all['date'].apply(lambda x: pd.to_datetime(x).date())"
   ],
   "id": "2889afb6a8a68158",
   "outputs": [],
   "execution_count": 58
  },
  {
   "metadata": {
    "ExecuteTime": {
     "end_time": "2024-07-20T23:03:39.376801Z",
     "start_time": "2024-07-20T23:03:39.335644Z"
    }
   },
   "cell_type": "code",
   "source": [
    "dftl = pd.read_parquet(\"workspace/dfreturns_with_tlfactors.pq\")\n",
    "tleaf_factor_cols = (['date', 'refdate', 'refmonthyear'] + \n",
    "                     [c for c in dfcpi_tleaf.columns if c.endswith('_rising_yoy')])\n",
    "dftlX = dfcpi_tleaf[tleaf_factor_cols].copy()"
   ],
   "id": "1c9103472e96810b",
   "outputs": [
    {
     "ename": "NameError",
     "evalue": "name 'dfcpi_tleaf' is not defined",
     "output_type": "error",
     "traceback": [
      "\u001B[0;31m---------------------------------------------------------------------------\u001B[0m",
      "\u001B[0;31mNameError\u001B[0m                                 Traceback (most recent call last)",
      "Cell \u001B[0;32mIn[9], line 3\u001B[0m\n\u001B[1;32m      1\u001B[0m dftl \u001B[38;5;241m=\u001B[39m pd\u001B[38;5;241m.\u001B[39mread_parquet(\u001B[38;5;124m\"\u001B[39m\u001B[38;5;124mworkspace/dfreturns_with_tlfactors.pq\u001B[39m\u001B[38;5;124m\"\u001B[39m)\n\u001B[1;32m      2\u001B[0m tleaf_factor_cols \u001B[38;5;241m=\u001B[39m ([\u001B[38;5;124m'\u001B[39m\u001B[38;5;124mdate\u001B[39m\u001B[38;5;124m'\u001B[39m, \u001B[38;5;124m'\u001B[39m\u001B[38;5;124mrefdate\u001B[39m\u001B[38;5;124m'\u001B[39m, \u001B[38;5;124m'\u001B[39m\u001B[38;5;124mrefmonthyear\u001B[39m\u001B[38;5;124m'\u001B[39m] \u001B[38;5;241m+\u001B[39m \n\u001B[0;32m----> 3\u001B[0m                      [c \u001B[38;5;28;01mfor\u001B[39;00m c \u001B[38;5;129;01min\u001B[39;00m \u001B[43mdfcpi_tleaf\u001B[49m\u001B[38;5;241m.\u001B[39mcolumns \u001B[38;5;28;01mif\u001B[39;00m c\u001B[38;5;241m.\u001B[39mendswith(\u001B[38;5;124m'\u001B[39m\u001B[38;5;124m_rising_yoy\u001B[39m\u001B[38;5;124m'\u001B[39m)])\n\u001B[1;32m      4\u001B[0m dftlX \u001B[38;5;241m=\u001B[39m dfcpi_tleaf[tleaf_factor_cols]\u001B[38;5;241m.\u001B[39mcopy()\n",
      "\u001B[0;31mNameError\u001B[0m: name 'dfcpi_tleaf' is not defined"
     ]
    }
   ],
   "execution_count": 9
  },
  {
   "metadata": {
    "ExecuteTime": {
     "end_time": "2024-07-13T17:04:10.231937Z",
     "start_time": "2024-07-13T17:04:10.210674Z"
    }
   },
   "cell_type": "code",
   "source": [
    "# for each ref period, get prior N years of data, and calculate mean return per sector per factor\n",
    "# 3M_rising         6M_rising[\n",
    "# 9M_rising         12M_rising\n",
    "# 3M_rising_yoy     6M_rising_yoy\n",
    "# 9M_rising_yoy     12M_rising_yoy"
   ],
   "id": "e28ce105cbb5549f",
   "outputs": [],
   "execution_count": 43
  },
  {
   "metadata": {
    "ExecuteTime": {
     "end_time": "2024-07-13T18:57:22.448050Z",
     "start_time": "2024-07-13T18:57:22.426471Z"
    }
   },
   "cell_type": "code",
   "source": "rolling_results = {}",
   "id": "32adb74229cb2420",
   "outputs": [],
   "execution_count": 78
  },
  {
   "metadata": {
    "ExecuteTime": {
     "end_time": "2024-07-13T18:52:52.719218Z",
     "start_time": "2024-07-13T18:52:52.694725Z"
    }
   },
   "cell_type": "code",
   "source": [
    "nperiods = [12, 24, 36, 48, 60]\n",
    "factors = ['3M_rising_yoy', '6M_rising_yoy', '9M_rising_yoy', '12M_rising_yoy']\n",
    "rtn_cols = ['rtn_1M', 'rtn_2M', 'rtn_3M', 'rtn_6M']\n",
    "for nper in nperiods:\n",
    "    for factor in factors:\n",
    "        for rtn_col in rtn_cols:\n",
    "            # nper = 12\n",
    "            # factor = '6M_rising_yoy'\n",
    "            # rtn_col = 'rtn_1M'\n",
    "            print(f\"Generating rolling factors for {factor} and {rtn_col} with {nper} period window\")\n",
    "            key = f\"{factor}.{rtn_col}.window{nper}\"            \n",
    "            df = rolling_factor_means(df_all, factor=factor, rtn_col=rtn_col, lookback=nper)\n",
    "\n",
    "            rolling_results[key] = df\n"
   ],
   "id": "3d40b4a05b06d6c7",
   "outputs": [],
   "execution_count": 73
  },
  {
   "metadata": {},
   "cell_type": "markdown",
   "source": "",
   "id": "a437235a9759c403"
  },
  {
   "metadata": {},
   "cell_type": "code",
   "outputs": [],
   "execution_count": null,
   "source": "",
   "id": "a8f9a4f8a90a57de"
  },
  {
   "metadata": {
    "ExecuteTime": {
     "end_time": "2024-07-13T20:47:32.719162Z",
     "start_time": "2024-07-13T20:47:32.696210Z"
    }
   },
   "cell_type": "code",
   "source": "",
   "id": "24121120badad7d5",
   "outputs": [],
   "execution_count": 215
  },
  {
   "metadata": {
    "ExecuteTime": {
     "end_time": "2024-07-13T19:45:26.845334Z",
     "start_time": "2024-07-13T19:45:26.815462Z"
    }
   },
   "cell_type": "code",
   "source": [
    "lookback=24\n",
    "factor = '6M_rising_yoy'\n",
    "rtn_col = 'rtn_1M'\n",
    "\n",
    "df = (df_all.groupby(['ticker', factor])\n",
    "              .rolling(lookback, on='refmonthyear', min_periods=lookback)[rtn_col]\n",
    "              .mean()\n",
    "              ).reset_index()\n",
    "df = df.join(datemap.set_index('refmonthyear'), on='refmonthyear')\n",
    "df = df[['date', 'refmonthyear', 'ticker', factor, rtn_col]]"
   ],
   "id": "1678e25cab2eecd1",
   "outputs": [],
   "execution_count": 169
  },
  {
   "metadata": {
    "ExecuteTime": {
     "end_time": "2024-07-13T20:44:39.783711Z",
     "start_time": "2024-07-13T20:44:39.762298Z"
    }
   },
   "cell_type": "code",
   "source": "",
   "id": "5d78ecf6057c6fe",
   "outputs": [],
   "execution_count": 211
  },
  {
   "metadata": {},
   "cell_type": "code",
   "outputs": [],
   "execution_count": null,
   "source": "",
   "id": "7ce400b0b5e92c3b"
  },
  {
   "metadata": {},
   "cell_type": "code",
   "outputs": [],
   "execution_count": null,
   "source": "",
   "id": "f1ba95740f098178"
  },
  {
   "metadata": {},
   "cell_type": "code",
   "outputs": [],
   "execution_count": null,
   "source": "",
   "id": "aa1ec537ccdab7ae"
  },
  {
   "metadata": {
    "ExecuteTime": {
     "end_time": "2024-07-13T19:01:03.581338Z",
     "start_time": "2024-07-13T19:01:03.564300Z"
    }
   },
   "cell_type": "code",
   "source": "",
   "id": "f631ff813d517831",
   "outputs": [],
   "execution_count": 82
  },
  {
   "metadata": {},
   "cell_type": "markdown",
   "source": "# Evaluate Rolling Factors Returns",
   "id": "39c6b998c0f8932c"
  },
  {
   "cell_type": "code",
   "id": "f09762ec-45f0-4075-ac82-dc1cdb68437a",
   "metadata": {
    "ExecuteTime": {
     "end_time": "2024-07-13T20:51:03.972780Z",
     "start_time": "2024-07-13T20:51:03.948865Z"
    }
   },
   "source": [
    "def get_weight(ticker, sigval, weights):\n",
    "    if sigval is None:\n",
    "        return 0\n",
    "    return weights[sigval][ticker]\n",
    "    \n",
    "def zero():\n",
    "    return 0"
   ],
   "outputs": [],
   "execution_count": 223
  },
  {
   "cell_type": "code",
   "id": "6e5c4f11-ad14-45e2-a312-1d5c5f3ffa97",
   "metadata": {
    "ExecuteTime": {
     "end_time": "2024-07-13T20:49:04.395205Z",
     "start_time": "2024-07-13T20:49:04.365973Z"
    }
   },
   "source": [
    "def apply_trading_rule(dfX, dfrtn, xcol, rtn_col, weights):\n",
    "    tickers = dfrtn[rtn_col].columns.values\n",
    "    \n",
    "    # strat_code = f\"totrtn.{xcol}.{rtn_col}\"\n",
    "    \n",
    "    dfjoint = pd.merge(dfrtn[rtn_col].reset_index(), \n",
    "                       dfX[xcol].reset_index(), \n",
    "                       left_on='refmonthyear', \n",
    "                       right_on='refmonthyear', \n",
    "                       suffixes=('', '_y'),\n",
    "                       how='inner').dropna()\n",
    "    dfjoint = dfjoint[dfjoint[xcol] != None]    \n",
    "    \n",
    "    for ticker in tickers:\n",
    "        wgtcol = f\"wgt.{ticker}\" \n",
    "        wgtrtncol = f\"wgtrtn.{ticker}\" \n",
    "        dfjoint[wgtcol] = dfjoint[xcol].apply(lambda x: get_weight(ticker, x, weights))\n",
    "        dfjoint[wgtrtncol] = dfjoint[wgtcol] * dfjoint[ticker]\n",
    "    \n",
    "    wgtreturns = dfjoint[[c for c in dfjoint.columns if c.startswith('wgtrtn')]].copy()\n",
    "    # wgtreturns[strat_code] = np.cumprod(wgtreturns.agg(func='sum', axis='columns').apply(lambda x: 1+x)) * 100\n",
    "    wgtreturns['totrtn'] = np.cumprod(wgtreturns.agg(func='sum', axis='columns').apply(lambda x: 1+x)) * 100\n",
    "    wgtreturns = pd.DataFrame(wgtreturns['totrtn']).reset_index()\n",
    "    wgtreturns['date'] = dfjoint['date'].copy()\n",
    "    wgtreturns['refmonthyear'] = dfjoint['refmonthyear'].copy()\n",
    "    wgtreturns = wgtreturns.sort_values('date')\n",
    "    # wgtreturns.set_index('date', inplace=True)\n",
    "    return wgtreturns\n",
    "\n",
    "\n",
    "def plot_trading_rule(dfX, dfrtn, xcol, rtn_col, weights, \n",
    "                      save_plot=True, show_plot=False, title=None,\n",
    "                     xlabel=None, ylabel=None):\n",
    "    if title is None:\n",
    "        title = f\"totrtn.{xcol}.{rtn_col}\"\n",
    "    strat_return = apply_trading_rule(dfX, dfrtn, xcol, rtn_col, weights=weights)\n",
    "    \n",
    "    mktweights = defaultdict(zero)\n",
    "    spxlong = defaultdict(zero)\n",
    "    spxlong['spx'] = 1\n",
    "    mktweights[True] = spxlong\n",
    "    mktweights[False] = spxlong\n",
    "    mkt_return = apply_trading_rule(dfX, dfrtn, xcol, rtn_col, weights=mktweights)\n",
    "    if not show_plot:\n",
    "        plt.ioff()\n",
    "\n",
    "\n",
    "    plt.figure(figsize=(10, 4))\n",
    "    \n",
    "    plt.plot(strat_return['date'], strat_return['totrtn'], label='Long/Short');\n",
    "    plt.plot(mkt_return['date'], mkt_return['totrtn'], label='SPX');\n",
    "    plt.title(title);\n",
    "    plt.legend();\n",
    "    plt.grid(ls='--', alpha=.5);\n",
    "\n",
    "    if xlabel is not None:\n",
    "        plt.xlabel(xlabel)\n",
    "\n",
    "    if ylabel is not None:\n",
    "        plt.ylabel(ylabel)\n",
    "\n",
    "    \n",
    "    if save_plot:\n",
    "        figname = f\"img/trading_rule_plots/{title}.png\"\n",
    "        plt.savefig(figname, dpi=200)\n",
    "\n",
    "    if show_plot:\n",
    "        plt.show()\n",
    "\n",
    "    plt.close()\n",
    "    plt.ion()"
   ],
   "outputs": [],
   "execution_count": 222
  },
  {
   "metadata": {
    "ExecuteTime": {
     "end_time": "2024-07-13T21:05:24.427201Z",
     "start_time": "2024-07-13T21:05:24.403505Z"
    }
   },
   "cell_type": "code",
   "source": [
    "def make_weight_vector(tickers, default_weight=0.0):\n",
    "    weights = {}    \n",
    "    for t in tickers:\n",
    "        weights[t] = default_weight\n",
    "    \n",
    "    weights = pd.Series(weights, name='weight')\n",
    "    return weights"
   ],
   "id": "9804a23643c92ec7",
   "outputs": [],
   "execution_count": 257
  },
  {
   "metadata": {
    "ExecuteTime": {
     "end_time": "2024-07-14T17:31:27.785002Z",
     "start_time": "2024-07-14T17:31:27.736927Z"
    }
   },
   "cell_type": "code",
   "source": [
    "def get_longs_shorts(df, factor='6M_rising_yoy', rtn_col='rtn_1M', lookback=24):\n",
    "    unique_dates = [d for d in df['date'].unique()]\n",
    "    unique_refmonthyear = [d for d in df['refmonthyear'].unique()]\n",
    "    \n",
    "    start_dt = unique_dates[0]\n",
    "    end_dt = unique_dates[lookback-1]\n",
    "    df_prior = df[df['date'] <= start_dt].copy()\n",
    "    \n",
    "    start_index = lookback\n",
    "    \n",
    "    tickers = df['ticker'].unique()\n",
    "    \n",
    "    longs_shorts = []\n",
    "    \n",
    "    \n",
    "    for i in range(start_index, len(unique_dates)):\n",
    "        start_dt = unique_dates[i-lookback]\n",
    "        end_dt = unique_dates[i-1]   \n",
    "        trade_dt = unique_dates[i]\n",
    "        df_prior = df[(df['date'] >= start_dt) & (df['date'] <= end_dt)].copy()\n",
    "        df_prior = df_prior[df_prior[factor].isna() == False]\n",
    "        mean_returns = df_prior.groupby(['ticker', factor], observed=True)[rtn_col].agg('mean')\n",
    "        excess_returns = mean_returns - mean_returns['spx']\n",
    "        excess_returns = excess_returns.reset_index()\n",
    "        \n",
    "        ls = {}\n",
    "        longs_rising = defaultdict(zero)\n",
    "        shorts_rising = defaultdict(zero)\n",
    "        longs_falling = defaultdict(zero)\n",
    "        shorts_falling = defaultdict(zero)\n",
    "        \n",
    "        rising_weights = make_weight_vector(tickers, default_weight=0.0)\n",
    "        falling_weights = make_weight_vector(tickers, default_weight=0.0)\n",
    "        # is_rising = df[df['']]\n",
    "        is_rising = df.iloc[i][factor] == True\n",
    "        # is_rising = dftl[dftl['refmonthyear'] == df.iloc[i]['refmonthyear']][factor].values[0] == True\n",
    "        \n",
    "        \n",
    "        for ticker in excess_returns[excess_returns[factor]==True].sort_values(rtn_col, ascending=False).head(2)['ticker'].values:\n",
    "                # longs_rising[ticker] = 1.0\n",
    "            rising_weights[ticker] = 1.0\n",
    " \n",
    "        for ticker in excess_returns[excess_returns[factor]==True].sort_values(rtn_col, ascending=True).head(2)['ticker'].values:\n",
    "                # shorts_rising[ticker] = -1.0\n",
    "            rising_weights[ticker] = -1.0\n",
    "\n",
    "        for ticker in excess_returns[excess_returns[factor]==False].sort_values(rtn_col, ascending=False).head(2)['ticker'].values:\n",
    "                # longs_falling[ticker] = 1.0\n",
    "            falling_weights[ticker] = 1.0\n",
    "            \n",
    "        for ticker in excess_returns[excess_returns[factor]==False].sort_values(rtn_col, ascending=True).head(2)['ticker'].values:\n",
    "                # shorts_falling[ticker] = -1.0\n",
    "            falling_weights[ticker] = -1.0\n",
    "        \n",
    "        longs_shorts.append((trade_dt, factor, rtn_col, is_rising, rising_weights, falling_weights))\n",
    "        # ls['rising'] = {'longs': longs_rising, 'shorts': shorts_rising}\n",
    "        # ls['falling'] = {'longs': longs_falling, 'shorts': shorts_falling} \n",
    "        # \n",
    "        # longs_shorts[trade_dt] = ls\n",
    "    \n",
    "    return longs_shorts\n",
    "\n",
    "def calc_ls_returns(trade_weights, dfrtns, dfsignal, sigcol, rtn_col='rtn_1M'):\n",
    "    returns = []\n",
    "    mktreturns = []\n",
    "    dates = []\n",
    "    signal_values = []\n",
    "    start_dt = dfsignal['date'].min()\n",
    "    for trade in trade_weights:\n",
    "        date = trade[0]\n",
    "        if date < start_dt:\n",
    "            continue\n",
    "        is_rising = dfsignal[dfsignal['date'] == date][sigcol].values[0]\n",
    "        if is_rising:\n",
    "            weights = trade[2]\n",
    "        else:\n",
    "            weights = trade[3]\n",
    "        \n",
    "        # returns.append(dfrtns[dfrtns['date'] == date][rtn_col][tickers] @ weights)\n",
    "        returns.append(dfrtns[dfrtns['date'] == date][rtn_col][tickers] @ weights)\n",
    "        dates.append(date)\n",
    "        signal_values.append(is_rising)\n",
    "        mktreturns.append(dfrtns[dfrtns['date'] == date][rtn_col]['spx'].values[0])\n",
    "        \n",
    "    dates = np.array(dates).flatten()\n",
    "    returns = np.array(returns).flatten()\n",
    "    mktreturns = np.array(mktreturns).flatten()\n",
    "    signal_values = np.array(signal_values).flatten()\n",
    "    totrtn = np.cumprod(returns + 1.0) * 100\n",
    "    mkttotrtn = np.cumprod(mktreturns + 1.0) * 100\n",
    "    df = pd.DataFrame({'date': dates, 'signal': signal_values, 'return': returns, 'totrtn': totrtn.flatten()})\n",
    "    df['spx_return'] = mktreturns.flatten()\n",
    "    df['spx_totrtn'] = mkttotrtn.flatten()\n",
    "    df = pd.DataFrame['signal'] = sigcol\n",
    "    return df"
   ],
   "id": "8aab4dcc57260508",
   "outputs": [],
   "execution_count": 477
  },
  {
   "metadata": {},
   "cell_type": "code",
   "outputs": [],
   "execution_count": null,
   "source": "",
   "id": "46e9ec6c3c9e8c21"
  },
  {
   "metadata": {
    "ExecuteTime": {
     "end_time": "2024-07-13T21:11:34.067511Z",
     "start_time": "2024-07-13T21:11:34.036203Z"
    }
   },
   "cell_type": "code",
   "source": [
    "tickers = df_all['ticker'].unique()\n",
    "dfrtn.reset_index(inplace=True)\n",
    "dfrtn['date'] = dfrtn['date'].apply(lambda x: pd.to_datetime(x).date())"
   ],
   "id": "6de16c1c9706b1e6",
   "outputs": [],
   "execution_count": 264
  },
  {
   "metadata": {
    "ExecuteTime": {
     "end_time": "2024-07-13T23:43:37.537977Z",
     "start_time": "2024-07-13T23:43:37.514091Z"
    }
   },
   "cell_type": "code",
   "source": "",
   "id": "8b4b3d4199c9a310",
   "outputs": [],
   "execution_count": 395
  },
  {
   "metadata": {
    "ExecuteTime": {
     "end_time": "2024-07-14T00:08:10.540273Z",
     "start_time": "2024-07-14T00:08:06.401167Z"
    }
   },
   "cell_type": "code",
   "source": [
    "lookback = 84\n",
    "rtn_col = 'rtn_1M'\n",
    "factor = '6M_rising_yoy'\n",
    "\n",
    "trades3m = get_longs_shorts(df_all, factor='3M_rising_yoy', rtn_col=rtn_col, lookback=lookback)\n",
    "trades6m = get_longs_shorts(df_all, factor='6M_rising_yoy', rtn_col=rtn_col, lookback=lookback)\n",
    "trades9m = get_longs_shorts(df_all, factor='9M_rising_yoy', rtn_col=rtn_col, lookback=lookback)"
   ],
   "id": "340c655f2fbbfc4",
   "outputs": [],
   "execution_count": 426
  },
  {
   "metadata": {},
   "cell_type": "markdown",
   "source": "dftlX = ",
   "id": "21ef1955543972f9"
  },
  {
   "metadata": {
    "ExecuteTime": {
     "end_time": "2024-07-14T17:25:47.940744Z",
     "start_time": "2024-07-14T17:25:47.305384Z"
    }
   },
   "cell_type": "code",
   "source": [
    "tlfactor = '3m1m_rising_yoy'\n",
    "rtn_col = 'rtn_1M'\n",
    "weights_vector = trades3m\n",
    "\n",
    "\n",
    "dates = []\n",
    "returns = []\n",
    "signal_values = []\n",
    "market_returns = []\n",
    "for trade in weights_vector:\n",
    "    date = trade[0]\n",
    "    if date not in dftlX['date'].values:\n",
    "        continue\n",
    "    is_rising = dftlX[dftlX['date'] == date][tlfactor].values[0]\n",
    "    weights = trade[4] if is_rising else trade[5]\n",
    "    # weights = trade[2]    \n",
    "    returns.append(dfrtn[dfrtn['date'] == date][rtn_col][tickers] @ weights)\n",
    "    dates.append(date)\n",
    "    signal_values.append(is_rising)\n",
    "    market_returns.append(dfrtn[dfrtn['date'] == date][rtn_col]['spx'].values[0])\n",
    "\n",
    "dates = np.array(dates)\n",
    "returns = np.array(returns)\n",
    "market_returns = np.array(market_returns)\n",
    "signal_values = np.array(signal_values)\n",
    "totrtn = np.cumprod(returns + 1.0) * 100\n",
    "totrtnmkt = np.cumprod(market_returns + 1.0) * 100\n",
    "\n",
    "\n",
    "plt.plot(dates, totrtn, label='Long/Short');\n",
    "plt.plot(dates, totrtnmkt, label='SPX');\n",
    "# plt.title(f\"{rtn_col} fwd returns for {tlfactor}\");\n",
    "plt.title(\"Long/Short vs SPX\\n3m1m Turnleaf Forecast Signal\")\n",
    "plt.ylabel(\"Cumulative Returns\");\n",
    "plt.xlabel(\"Date\");\n",
    "plt.legend();"
   ],
   "id": "26f298afabec8f44",
   "outputs": [
    {
     "data": {
      "text/plain": [
       "<Figure size 1000x400 with 1 Axes>"
      ],
      "image/png": "[encoded data removed]"
     },
     "metadata": {},
     "output_type": "display_data"
    }
   ],
   "execution_count": 459
  },
  {
   "metadata": {},
   "cell_type": "markdown",
   "source": "Strategy above is rebalanced monthly, using an 84 month lookback period to determine the best 2 longs and best 2 shorts to use when inflation is rising and when inflation is falling. The returns used to construct total returns are the 1month forward returns for the month following the release of a CPI print. ",
   "id": "69f9ec4001a797d9"
  },
  {
   "metadata": {
    "ExecuteTime": {
     "end_time": "2024-07-14T17:40:21.700748Z",
     "start_time": "2024-07-14T17:40:21.674755Z"
    }
   },
   "cell_type": "code",
   "source": [
    "df = pd.DataFrame({'date': dates, \n",
    "                   'signal': signal_values.flatten(), \n",
    "                   'return': returns.flatten(), \n",
    "                   'totrtn': totrtn.flatten(),\n",
    "                   'spx_return': market_returns.flatten(),\n",
    "                   'spx_totrtn': totrtnmkt.flatten()})\n",
    "# df['spx_return'] = market_returns\n",
    "# df['spx_totrtn'] = totrtnmkt\n",
    "# df = pd.DataFrame['signal'] = tlfactor"
   ],
   "id": "acd2822bf0cbfe2d",
   "outputs": [],
   "execution_count": 484
  },
  {
   "metadata": {
    "ExecuteTime": {
     "end_time": "2024-07-14T17:42:12.379585Z",
     "start_time": "2024-07-14T17:42:12.342090Z"
    }
   },
   "cell_type": "code",
   "source": "df.tail()",
   "id": "4a112b6e47eaa721",
   "outputs": [
    {
     "data": {
      "text/plain": [
       "          date  signal    return      totrtn  spx_return  spx_totrtn\n",
       "89  2023-06-30    True -0.011084  124.744688    0.001221  105.577652\n",
       "90  2023-07-31   False  0.007496  125.679732   -0.002641  105.298864\n",
       "91  2023-08-31   False  0.044917  131.324860    0.001852  105.493826\n",
       "92  2023-10-31    True  0.010312  132.679095    0.010511  106.602635\n",
       "93  2023-11-30   False -0.000222  132.649638    0.005958  107.237824"
      ],
      "text/html": [
       "<div>\n",
       "<style scoped>\n",
       "    .dataframe tbody tr th:only-of-type {\n",
       "        vertical-align: middle;\n",
       "    }\n",
       "\n",
       "    .dataframe tbody tr th {\n",
       "        vertical-align: top;\n",
       "    }\n",
       "\n",
       "    .dataframe thead th {\n",
       "        text-align: right;\n",
       "    }\n",
       "</style>\n",
       "<table border=\"1\" class=\"dataframe\">\n",
       "  <thead>\n",
       "    <tr style=\"text-align: right;\">\n",
       "      <th></th>\n",
       "      <th>date</th>\n",
       "      <th>signal</th>\n",
       "      <th>return</th>\n",
       "      <th>totrtn</th>\n",
       "      <th>spx_return</th>\n",
       "      <th>spx_totrtn</th>\n",
       "    </tr>\n",
       "  </thead>\n",
       "  <tbody>\n",
       "    <tr>\n",
       "      <th>89</th>\n",
       "      <td>2023-06-30</td>\n",
       "      <td>True</td>\n",
       "      <td>-0.011084</td>\n",
       "      <td>124.744688</td>\n",
       "      <td>0.001221</td>\n",
       "      <td>105.577652</td>\n",
       "    </tr>\n",
       "    <tr>\n",
       "      <th>90</th>\n",
       "      <td>2023-07-31</td>\n",
       "      <td>False</td>\n",
       "      <td>0.007496</td>\n",
       "      <td>125.679732</td>\n",
       "      <td>-0.002641</td>\n",
       "      <td>105.298864</td>\n",
       "    </tr>\n",
       "    <tr>\n",
       "      <th>91</th>\n",
       "      <td>2023-08-31</td>\n",
       "      <td>False</td>\n",
       "      <td>0.044917</td>\n",
       "      <td>131.324860</td>\n",
       "      <td>0.001852</td>\n",
       "      <td>105.493826</td>\n",
       "    </tr>\n",
       "    <tr>\n",
       "      <th>92</th>\n",
       "      <td>2023-10-31</td>\n",
       "      <td>True</td>\n",
       "      <td>0.010312</td>\n",
       "      <td>132.679095</td>\n",
       "      <td>0.010511</td>\n",
       "      <td>106.602635</td>\n",
       "    </tr>\n",
       "    <tr>\n",
       "      <th>93</th>\n",
       "      <td>2023-11-30</td>\n",
       "      <td>False</td>\n",
       "      <td>-0.000222</td>\n",
       "      <td>132.649638</td>\n",
       "      <td>0.005958</td>\n",
       "      <td>107.237824</td>\n",
       "    </tr>\n",
       "  </tbody>\n",
       "</table>\n",
       "</div>"
      ]
     },
     "execution_count": 486,
     "metadata": {},
     "output_type": "execute_result"
    }
   ],
   "execution_count": 486
  },
  {
   "metadata": {
    "ExecuteTime": {
     "end_time": "2024-07-14T17:40:24.246650Z",
     "start_time": "2024-07-14T17:40:24.212640Z"
    }
   },
   "cell_type": "code",
   "source": "df.to_clipboard()",
   "id": "58eb3283fa1837cd",
   "outputs": [],
   "execution_count": 485
  },
  {
   "metadata": {},
   "cell_type": "code",
   "outputs": [],
   "execution_count": null,
   "source": "",
   "id": "612fb500eea1dc7e"
  },
  {
   "metadata": {},
   "cell_type": "code",
   "outputs": [],
   "execution_count": null,
   "source": "",
   "id": "ff7df8c2c7612c26"
  },
  {
   "metadata": {},
   "cell_type": "code",
   "outputs": [],
   "execution_count": null,
   "source": "",
   "id": "f0bab2cc9a768e52"
  },
  {
   "metadata": {},
   "cell_type": "code",
   "outputs": [],
   "execution_count": null,
   "source": "",
   "id": "96fee093ee388925"
  },
  {
   "metadata": {},
   "cell_type": "code",
   "outputs": [],
   "execution_count": null,
   "source": "",
   "id": "af783650ea648568"
  },
  {
   "metadata": {},
   "cell_type": "code",
   "outputs": [],
   "execution_count": null,
   "source": "",
   "id": "1af08de631ee5bb9"
  },
  {
   "metadata": {},
   "cell_type": "code",
   "outputs": [],
   "execution_count": null,
   "source": "",
   "id": "ca8a15adcd5b36a6"
  },
  {
   "metadata": {},
   "cell_type": "code",
   "outputs": [],
   "execution_count": null,
   "source": "",
   "id": "367d886497f63510"
  },
  {
   "metadata": {},
   "cell_type": "code",
   "outputs": [],
   "execution_count": null,
   "source": "",
   "id": "d9505e9b80fa74d7"
  },
  {
   "metadata": {},
   "cell_type": "code",
   "outputs": [],
   "execution_count": null,
   "source": "",
   "id": "43b86965db3c5a75"
  },
  {
   "metadata": {},
   "cell_type": "code",
   "outputs": [],
   "execution_count": null,
   "source": "",
   "id": "2d4917c48e981818"
  }
 ],
 "metadata": {
  "kernelspec": {
   "display_name": "Python 3 (ipykernel)",
   "language": "python",
   "name": "python3"
  },
  "language_info": {
   "codemirror_mode": {
    "name": "ipython",
    "version": 3
   },
   "file_extension": ".py",
   "mimetype": "text/x-python",
   "name": "python",
   "nbconvert_exporter": "python",
   "pygments_lexer": "ipython3",
   "version": "3.10.14"
  }
 },
 "nbformat": 4,
 "nbformat_minor": 5
}
