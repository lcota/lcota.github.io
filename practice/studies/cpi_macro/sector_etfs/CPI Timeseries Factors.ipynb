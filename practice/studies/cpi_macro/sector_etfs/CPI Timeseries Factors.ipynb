{
 "cells": [
  {
   "cell_type": "code",
   "id": "ab690e9f-28d0-4ae5-8e18-5b39bc27c698",
   "metadata": {
    "ExecuteTime": {
     "end_time": "2024-07-13T12:24:40.007710Z",
     "start_time": "2024-07-13T12:24:40.005921Z"
    }
   },
   "source": [
    "import pandas as pd"
   ],
   "outputs": [],
   "execution_count": 1
  },
  {
   "cell_type": "code",
   "execution_count": 5,
   "id": "a91d27a3-ef59-456a-b6da-c0fb3d25a2df",
   "metadata": {},
   "outputs": [],
   "source": [
    "cpi = pd.read_parquet(\"workspace/cpi_fred_factors.pq\")"
   ]
  },
  {
   "cell_type": "code",
   "id": "55ad8e83-c34f-42ed-b268-21991d275541",
   "metadata": {
    "ExecuteTime": {
     "end_time": "2024-07-13T12:24:56.318089Z",
     "start_time": "2024-07-13T12:24:56.238197Z"
    }
   },
   "source": "tlcpi = pd.read_parquet(\"workspace/cpi_turnleaf_factors.pq\") ",
   "outputs": [],
   "execution_count": 2
  },
  {
   "cell_type": "code",
   "id": "41934f4c-8f06-42e2-be0c-f5e6419e1e40",
   "metadata": {
    "ExecuteTime": {
     "end_time": "2024-07-13T12:26:34.461127Z",
     "start_time": "2024-07-13T12:26:34.456459Z"
    }
   },
   "source": "print(tlcpi.head())",
   "outputs": [
    {
     "name": "stdout",
     "output_type": "stream",
     "text": [
      "              index     pubdate    refdate cpi.pubdate cpi.refdate  \\\n",
      "refmonthyear                                                         \n",
      "JAN.2013          0  2013-02-26 2013-01-31  2013-02-21  2013-01-31   \n",
      "FEB.2013          1  2013-03-20 2013-02-28  2013-03-15  2013-02-28   \n",
      "MAR.2013          2  2013-04-19 2013-03-31  2013-04-16  2013-03-31   \n",
      "APR.2013          3  2013-05-21 2013-04-30  2013-05-16  2013-04-30   \n",
      "MAY.2013          4  2013-06-21 2013-05-31  2013-06-18  2013-05-31   \n",
      "\n",
      "              cpi.realised  cpi.1mf.yoy  cpi.3mf.yoy  cpi.6mf.yoy  \\\n",
      "refmonthyear                                                        \n",
      "JAN.2013          1.594865     1.541966     1.207702     2.134584   \n",
      "FEB.2013          1.977924     1.474452     1.611961     2.126072   \n",
      "MAR.2013          1.473896     1.178381     1.544404     1.913064   \n",
      "APR.2013          1.063085     1.361924     2.045935     1.936189   \n",
      "MAY.2013          1.361965     1.669177     1.748812     2.522877   \n",
      "\n",
      "              cpi.9mf.yoy  cpi.12mf.yoy  3m1m_rising_yoy  6m1m_rising_yoy  \\\n",
      "refmonthyear                                                                \n",
      "JAN.2013         2.414804         3.568            False             True   \n",
      "FEB.2013         2.909134         3.375             True             True   \n",
      "MAR.2013         2.018203         2.957             True             True   \n",
      "APR.2013         2.425523         3.497             True             True   \n",
      "MAY.2013         2.405458         3.303             True             True   \n",
      "\n",
      "              9m1m_rising_yoy  12m1m_rising_yoy  3m_rising_yoy  6m_rising_yoy  \\\n",
      "refmonthyear                                                                    \n",
      "JAN.2013                 True              True          False           True   \n",
      "FEB.2013                 True              True          False           True   \n",
      "MAR.2013                 True              True           True           True   \n",
      "APR.2013                 True              True           True           True   \n",
      "MAY.2013                 True              True           True           True   \n",
      "\n",
      "              9m_rising_yoy  12m_rising_yoy  \n",
      "refmonthyear                                 \n",
      "JAN.2013               True            True  \n",
      "FEB.2013               True            True  \n",
      "MAR.2013               True            True  \n",
      "APR.2013               True            True  \n",
      "MAY.2013               True            True  \n"
     ]
    }
   ],
   "execution_count": 9
  },
  {
   "metadata": {},
   "cell_type": "code",
   "outputs": [],
   "execution_count": null,
   "source": "",
   "id": "6c85154909a0aad6"
  }
 ],
 "metadata": {
  "kernelspec": {
   "display_name": "Python 3 (ipykernel)",
   "language": "python",
   "name": "python3"
  },
  "language_info": {
   "codemirror_mode": {
    "name": "ipython",
    "version": 3
   },
   "file_extension": ".py",
   "mimetype": "text/x-python",
   "name": "python",
   "nbconvert_exporter": "python",
   "pygments_lexer": "ipython3",
   "version": "3.10.14"
  }
 },
 "nbformat": 4,
 "nbformat_minor": 5
}
